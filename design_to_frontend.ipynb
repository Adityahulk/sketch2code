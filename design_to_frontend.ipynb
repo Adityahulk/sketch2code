{
  "nbformat": 4,
  "nbformat_minor": 0,
  "metadata": {
    "colab": {
      "name": "design_to_frontend.ipynb",
      "provenance": [],
      "collapsed_sections": [],
      "mount_file_id": "1-bcp21fTxN8dWMEolmSoK6rfeayl-zdL",
      "authorship_tag": "ABX9TyM4Vb8wCA4cYy0I0MdRfmgq",
      "include_colab_link": true
    },
    "kernelspec": {
      "name": "python3",
      "display_name": "Python 3"
    },
    "language_info": {
      "name": "python"
    },
    "accelerator": "GPU"
  },
  "cells": [
    {
      "cell_type": "markdown",
      "metadata": {
        "id": "view-in-github",
        "colab_type": "text"
      },
      "source": [
        "<a href=\"https://colab.research.google.com/github/Adityahulk/sketch2code/blob/master/design_to_frontend.ipynb\" target=\"_parent\"><img src=\"https://colab.research.google.com/assets/colab-badge.svg\" alt=\"Open In Colab\"/></a>"
      ]
    },
    {
      "cell_type": "code",
      "metadata": {
        "id": "jeVFYBTGlB8s"
      },
      "source": [
        "import torch.utils.data as data\n",
        "import cv2\n",
        "import sys\n",
        "from os import listdir\n",
        "from os.path import join\n",
        "import numpy as np\n",
        "from keras.preprocessing.text import Tokenizer\n",
        "from tensorflow.keras.utils import to_categorical\n",
        "\n",
        "def resize_img(png_file_path):\n",
        "        img_rgb = cv2.imread(png_file_path)\n",
        "        img_grey = cv2.cvtColor(img_rgb, cv2.COLOR_BGR2GRAY)\n",
        "        img_adapted = cv2.adaptiveThreshold(img_grey, 255, cv2.ADAPTIVE_THRESH_MEAN_C,cv2.THRESH_BINARY, 101, 9)\n",
        "        img_stacked = np.repeat(img_adapted[...,None],3,axis=2)\n",
        "        resized = cv2.resize(img_stacked, (224,224), interpolation=cv2.INTER_AREA)\n",
        "        bg_img = 255 * np.ones(shape=(224,224,3))\n",
        "        bg_img[0:224, 0:224,:] = resized\n",
        "        bg_img /= 255\n",
        "        bg_img = np.rollaxis(bg_img, 2, 0)  \n",
        "        return bg_img\n",
        "    \n",
        "def load_doc(filename):\n",
        "    file = open(filename, 'r')\n",
        "    text = file.read()\n",
        "    file.close()\n",
        "    return text\n",
        "\n",
        "class Dataset():\n",
        "    def __init__(self, data_dir, input_transform=None, target_transform=None):\n",
        "        self.data_dir = data_dir\n",
        "        self.image_filenames = []\n",
        "        self.texts = []\n",
        "        all_filenames = listdir(data_dir)\n",
        "        all_filenames.sort()\n",
        "        for filename in (all_filenames):\n",
        "            if filename[-3:] == \"png\":\n",
        "                self.image_filenames.append(filename)\n",
        "            else:\n",
        "                text = '<START> ' + load_doc(self.data_dir+filename) + ' <END>'\n",
        "                text = ' '.join(text.split())\n",
        "                text = text.replace(',', ' ,')\n",
        "                self.texts.append(text)\n",
        "        self.input_transform = input_transform\n",
        "        self.target_transform = target_transform\n",
        "        \n",
        "        # Initialize the function to create the vocabulary \n",
        "        tokenizer = Tokenizer(filters='', split=\" \", lower=False)\n",
        "        # Create the vocabulary \n",
        "        tokenizer.fit_on_texts([load_doc('vocabulary.vocab')])\n",
        "        self.tokenizer = tokenizer\n",
        "        # Add one spot for the empty word in the vocabulary \n",
        "        self.vocab_size = len(tokenizer.word_index) + 1\n",
        "        # Map the input sentences into the vocabulary indexes\n",
        "        self.train_sequences = tokenizer.texts_to_sequences(self.texts)\n",
        "        # The longest set of boostrap tokens\n",
        "        self.max_sequence = max(len(s) for s in self.train_sequences)\n",
        "        # Specify how many tokens to have in each input sentence\n",
        "        self.max_length = 48\n",
        "        \n",
        "        X, y, image_data_filenames = list(), list(), list()\n",
        "        for img_no, seq in enumerate(self.train_sequences):\n",
        "          try:\n",
        "            in_seq, out_seq = seq[:-1], seq[1:]\n",
        "            out_seq = to_categorical(out_seq, num_classes=self.vocab_size)\n",
        "            #print(img_no)\n",
        "            image_data_filenames.append(self.image_filenames[img_no])\n",
        "            X.append(in_seq)\n",
        "            y.append(out_seq)\n",
        "          except IndexError:\n",
        "            print(img_no)\n",
        "                \n",
        "        self.X = X\n",
        "        self.y = y\n",
        "        self.image_data_filenames = image_data_filenames\n",
        "        self.images = list()\n",
        "        for image_name in self.image_data_filenames:\n",
        "            image = resize_img(self.data_dir+image_name)\n",
        "            self.images.append(image)"
      ],
      "execution_count": 16,
      "outputs": []
    },
    {
      "cell_type": "code",
      "metadata": {
        "colab": {
          "base_uri": "https://localhost:8080/"
        },
        "id": "0v0fxF26plNE",
        "outputId": "afb77646-6271-494c-b593-56300b00b28b"
      },
      "source": [
        "dir_name = '/content/drive/MyDrive/data/'\n",
        "batch_size = 32\n",
        "my_dateset = Dataset(dir_name)"
      ],
      "execution_count": 17,
      "outputs": [
        {
          "output_type": "stream",
          "text": [
            "1700\n",
            "1701\n",
            "1702\n",
            "1703\n"
          ],
          "name": "stdout"
        }
      ]
    },
    {
      "cell_type": "code",
      "metadata": {
        "id": "8fL9rKQqpngw"
      },
      "source": [
        "import torch\n",
        "import torch.nn as nn\n",
        "import torchvision.models as models\n",
        "from torch.nn.utils.rnn import pack_padded_sequence\n",
        "from torch.autograd import Variable\n",
        "\n",
        "\n",
        "class EncoderCNN(nn.Module):\n",
        "    def __init__(self, embed_size):\n",
        "        \"\"\"Load the pretrained ResNet-152 and replace top fc layer.\"\"\"\n",
        "        super(EncoderCNN, self).__init__()\n",
        "        resnet = models.resnet152(pretrained=True)\n",
        "        modules = list(resnet.children())[:-1]      # delete the last fc layer.\n",
        "        self.resnet = nn.Sequential(*modules)\n",
        "        self.linear = nn.Linear(resnet.fc.in_features, embed_size)\n",
        "        self.bn = nn.BatchNorm1d(embed_size, momentum=0.01)\n",
        "        self.init_weights()\n",
        "        \n",
        "    def init_weights(self):\n",
        "        \"\"\"Initialize the weights.\"\"\"\n",
        "        self.linear.weight.data.normal_(0.0, 0.02)\n",
        "        self.linear.bias.data.fill_(0)\n",
        "        \n",
        "    def forward(self, images):\n",
        "        \"\"\"Extract the image feature vectors.\"\"\"\n",
        "        features = self.resnet(images)\n",
        "        features = Variable(features.data)\n",
        "        features = features.view(features.size(0), -1)\n",
        "        if images.shape[0] < 2:\n",
        "            features = self.linear(features)\n",
        "            return features\n",
        "        features = self.bn(self.linear(features))\n",
        "        return features # Bxembed_size"
      ],
      "execution_count": 21,
      "outputs": []
    },
    {
      "cell_type": "code",
      "metadata": {
        "id": "n8RpwFUtpqb7"
      },
      "source": [
        "class DecoderRNN(nn.Module):\n",
        "    def __init__(self, embed_size, hidden_size, vocab_size, num_layers):\n",
        "        \"\"\"Set the hyper-parameters and build the layers.\"\"\"\n",
        "        super(DecoderRNN, self).__init__()\n",
        "        self.n_layers = num_layers\n",
        "        self.hidden_size = hidden_size\n",
        "        self.embed = nn.Embedding(vocab_size, embed_size)\n",
        "        self.lstm = nn.GRU(embed_size*2, hidden_size, num_layers, batch_first=True)\n",
        "        self.linear = nn.Linear(hidden_size, vocab_size)\n",
        "        self.init_weights()\n",
        "    \n",
        "    def init_weights(self):\n",
        "        \"\"\"Initialize weights.\"\"\"\n",
        "        self.embed.weight.data.uniform_(-0.1, 0.1)\n",
        "        self.linear.weight.data.uniform_(-0.1, 0.1)\n",
        "        self.linear.bias.data.fill_(0)\n",
        "        \n",
        "    def forward(self, features, captions, hidden):\n",
        "        \"\"\"Decode image feature vectors and generates captions.\"\"\"\n",
        "        embeddings = self.embed(captions)\n",
        "        embeddings = torch.cat((features.unsqueeze(1).repeat(1,embeddings.shape[1],1), embeddings), 2)\n",
        "        #packed = pack_padded_sequence(embeddings, 48, batch_first=True) \n",
        "        output, hidden = self.lstm(embeddings, hidden)\n",
        "        outputs = self.linear(output)\n",
        "        return outputs, hidden\n",
        "    def init_hidden(self):\n",
        "        return Variable(torch.zeros(self.n_layers, 1, self.hidden_size))"
      ],
      "execution_count": 18,
      "outputs": []
    },
    {
      "cell_type": "code",
      "metadata": {
        "id": "G_ms4_lGqC1p"
      },
      "source": [
        "embed_size = 50\n",
        "hidden_size = 256\n",
        "num_layers = 3\n",
        "num_epochs = 50\n",
        "\n",
        "#encoder = torch.load('encoder_0.11751580238342285.pt')\n",
        "#decoder = torch.load('decoder_0.11751580238342285.pt')\n",
        "encoder = EncoderCNN(embed_size)\n",
        "decoder = DecoderRNN(embed_size, hidden_size, my_dateset.vocab_size, num_layers)\n",
        "criterion = nn.MSELoss()\n",
        "params = list(decoder.parameters()) + list(encoder.linear.parameters()) + list(encoder.bn.parameters())\n",
        "optimizer = torch.optim.Adam(params,lr=0.001)"
      ],
      "execution_count": 24,
      "outputs": []
    },
    {
      "cell_type": "code",
      "metadata": {
        "colab": {
          "base_uri": "https://localhost:8080/",
          "height": 697
        },
        "id": "MGSKLDKvqDfM",
        "outputId": "f5c18bf2-cfec-4c21-eb9f-21d080114106"
      },
      "source": [
        "for epoch in range(num_epochs):\n",
        "    for i_batch in range(len(my_dateset.X)):\n",
        "        hidden = decoder.init_hidden()\n",
        "        images = Variable(torch.FloatTensor([my_dateset.images[i_batch]]))\n",
        "        input_seqs = Variable(torch.LongTensor(my_dateset.X[i_batch])).view(1,-1)\n",
        "        target_seq = Variable(torch.FloatTensor(my_dateset.y[i_batch]))\n",
        "        encoder.zero_grad()\n",
        "        decoder.zero_grad()\n",
        "        features = encoder(images)\n",
        "        outputs, hidden = decoder(features, input_seqs, hidden)\n",
        "        loss = 0\n",
        "        \n",
        "        for di in range(target_seq.shape[0]):\n",
        "            loss += criterion(outputs.squeeze(0)[di], target_seq[di])\n",
        "        \n",
        "        loss.backward()\n",
        "        optimizer.step()\n",
        "\n",
        "        \n",
        "    print('Epoch [%d/%d], Loss: %.4f'%(epoch+1, num_epochs,loss.item())) \n",
        "    torch.save(encoder.state_dict(),'encoder_resnet152.pt')\n",
        "    torch.save(decoder.state_dict(),'decoder_resnet152.pt')"
      ],
      "execution_count": 29,
      "outputs": [
        {
          "output_type": "stream",
          "text": [
            "Epoch [1/50], Loss: 0.2344\n",
            "Epoch [2/50], Loss: 0.1330\n",
            "Epoch [3/50], Loss: 0.1385\n",
            "Epoch [4/50], Loss: 0.1417\n",
            "Epoch [5/50], Loss: 0.1428\n",
            "Epoch [6/50], Loss: 0.1445\n",
            "Epoch [7/50], Loss: 0.1384\n",
            "Epoch [8/50], Loss: 0.1405\n",
            "Epoch [9/50], Loss: 0.1387\n",
            "Epoch [10/50], Loss: 0.1382\n",
            "Epoch [11/50], Loss: 0.1342\n",
            "Epoch [12/50], Loss: 0.1341\n",
            "Epoch [13/50], Loss: 0.1348\n",
            "Epoch [14/50], Loss: 0.1348\n",
            "Epoch [15/50], Loss: 0.1748\n",
            "Epoch [16/50], Loss: 0.1755\n",
            "Epoch [17/50], Loss: 0.1732\n",
            "Epoch [18/50], Loss: 0.1748\n",
            "Epoch [19/50], Loss: 0.1740\n"
          ],
          "name": "stdout"
        },
        {
          "output_type": "error",
          "ename": "KeyboardInterrupt",
          "evalue": "ignored",
          "traceback": [
            "\u001b[0;31m---------------------------------------------------------------------------\u001b[0m",
            "\u001b[0;31mKeyboardInterrupt\u001b[0m                         Traceback (most recent call last)",
            "\u001b[0;32m<ipython-input-29-1b74fe87d98b>\u001b[0m in \u001b[0;36m<module>\u001b[0;34m()\u001b[0m\n\u001b[1;32m     13\u001b[0m             \u001b[0mloss\u001b[0m \u001b[0;34m+=\u001b[0m \u001b[0mcriterion\u001b[0m\u001b[0;34m(\u001b[0m\u001b[0moutputs\u001b[0m\u001b[0;34m.\u001b[0m\u001b[0msqueeze\u001b[0m\u001b[0;34m(\u001b[0m\u001b[0;36m0\u001b[0m\u001b[0;34m)\u001b[0m\u001b[0;34m[\u001b[0m\u001b[0mdi\u001b[0m\u001b[0;34m]\u001b[0m\u001b[0;34m,\u001b[0m \u001b[0mtarget_seq\u001b[0m\u001b[0;34m[\u001b[0m\u001b[0mdi\u001b[0m\u001b[0;34m]\u001b[0m\u001b[0;34m)\u001b[0m\u001b[0;34m\u001b[0m\u001b[0;34m\u001b[0m\u001b[0m\n\u001b[1;32m     14\u001b[0m \u001b[0;34m\u001b[0m\u001b[0m\n\u001b[0;32m---> 15\u001b[0;31m         \u001b[0mloss\u001b[0m\u001b[0;34m.\u001b[0m\u001b[0mbackward\u001b[0m\u001b[0;34m(\u001b[0m\u001b[0;34m)\u001b[0m\u001b[0;34m\u001b[0m\u001b[0;34m\u001b[0m\u001b[0m\n\u001b[0m\u001b[1;32m     16\u001b[0m         \u001b[0moptimizer\u001b[0m\u001b[0;34m.\u001b[0m\u001b[0mstep\u001b[0m\u001b[0;34m(\u001b[0m\u001b[0;34m)\u001b[0m\u001b[0;34m\u001b[0m\u001b[0;34m\u001b[0m\u001b[0m\n\u001b[1;32m     17\u001b[0m \u001b[0;34m\u001b[0m\u001b[0m\n",
            "\u001b[0;32m/usr/local/lib/python3.7/dist-packages/torch/_tensor.py\u001b[0m in \u001b[0;36mbackward\u001b[0;34m(self, gradient, retain_graph, create_graph, inputs)\u001b[0m\n\u001b[1;32m    253\u001b[0m                 \u001b[0mcreate_graph\u001b[0m\u001b[0;34m=\u001b[0m\u001b[0mcreate_graph\u001b[0m\u001b[0;34m,\u001b[0m\u001b[0;34m\u001b[0m\u001b[0;34m\u001b[0m\u001b[0m\n\u001b[1;32m    254\u001b[0m                 inputs=inputs)\n\u001b[0;32m--> 255\u001b[0;31m         \u001b[0mtorch\u001b[0m\u001b[0;34m.\u001b[0m\u001b[0mautograd\u001b[0m\u001b[0;34m.\u001b[0m\u001b[0mbackward\u001b[0m\u001b[0;34m(\u001b[0m\u001b[0mself\u001b[0m\u001b[0;34m,\u001b[0m \u001b[0mgradient\u001b[0m\u001b[0;34m,\u001b[0m \u001b[0mretain_graph\u001b[0m\u001b[0;34m,\u001b[0m \u001b[0mcreate_graph\u001b[0m\u001b[0;34m,\u001b[0m \u001b[0minputs\u001b[0m\u001b[0;34m=\u001b[0m\u001b[0minputs\u001b[0m\u001b[0;34m)\u001b[0m\u001b[0;34m\u001b[0m\u001b[0;34m\u001b[0m\u001b[0m\n\u001b[0m\u001b[1;32m    256\u001b[0m \u001b[0;34m\u001b[0m\u001b[0m\n\u001b[1;32m    257\u001b[0m     \u001b[0;32mdef\u001b[0m \u001b[0mregister_hook\u001b[0m\u001b[0;34m(\u001b[0m\u001b[0mself\u001b[0m\u001b[0;34m,\u001b[0m \u001b[0mhook\u001b[0m\u001b[0;34m)\u001b[0m\u001b[0;34m:\u001b[0m\u001b[0;34m\u001b[0m\u001b[0;34m\u001b[0m\u001b[0m\n",
            "\u001b[0;32m/usr/local/lib/python3.7/dist-packages/torch/autograd/__init__.py\u001b[0m in \u001b[0;36mbackward\u001b[0;34m(tensors, grad_tensors, retain_graph, create_graph, grad_variables, inputs)\u001b[0m\n\u001b[1;32m    147\u001b[0m     Variable._execution_engine.run_backward(\n\u001b[1;32m    148\u001b[0m         \u001b[0mtensors\u001b[0m\u001b[0;34m,\u001b[0m \u001b[0mgrad_tensors_\u001b[0m\u001b[0;34m,\u001b[0m \u001b[0mretain_graph\u001b[0m\u001b[0;34m,\u001b[0m \u001b[0mcreate_graph\u001b[0m\u001b[0;34m,\u001b[0m \u001b[0minputs\u001b[0m\u001b[0;34m,\u001b[0m\u001b[0;34m\u001b[0m\u001b[0;34m\u001b[0m\u001b[0m\n\u001b[0;32m--> 149\u001b[0;31m         allow_unreachable=True, accumulate_grad=True)  # allow_unreachable flag\n\u001b[0m\u001b[1;32m    150\u001b[0m \u001b[0;34m\u001b[0m\u001b[0m\n\u001b[1;32m    151\u001b[0m \u001b[0;34m\u001b[0m\u001b[0m\n",
            "\u001b[0;31mKeyboardInterrupt\u001b[0m: "
          ]
        }
      ]
    },
    {
      "cell_type": "code",
      "metadata": {
        "colab": {
          "base_uri": "https://localhost:8080/"
        },
        "id": "oAq80r2294lI",
        "outputId": "fb61bcbc-416a-4420-e4be-1acd3df7734a"
      },
      "source": [
        "print('Epoch [%d/%d], Loss: %.4f'%(epoch+1, num_epochs,loss.item())) "
      ],
      "execution_count": 28,
      "outputs": [
        {
          "output_type": "stream",
          "text": [
            "Epoch [1/50], Loss: 0.2384\n"
          ],
          "name": "stdout"
        }
      ]
    },
    {
      "cell_type": "code",
      "metadata": {
        "id": "j8hwapYLxYul"
      },
      "source": [
        "import torch\n",
        "import torch.nn as nn\n",
        "import torchvision.models as models\n",
        "from torch.nn.utils.rnn import pack_padded_sequence\n",
        "from torch.autograd import Variable"
      ],
      "execution_count": 30,
      "outputs": []
    },
    {
      "cell_type": "code",
      "metadata": {
        "colab": {
          "base_uri": "https://localhost:8080/"
        },
        "id": "EMvfI5P_qHAR",
        "outputId": "57c919ff-b4f5-40cb-fa71-1615d5b5f4ab"
      },
      "source": [
        "encoder = EncoderCNN(embed_size)\n",
        "encoder.load_state_dict(torch.load('encoder_resnet152.pt'))\n",
        "\n",
        "decoder = DecoderRNN(embed_size, hidden_size, my_dateset.vocab_size, num_layers)\n",
        "decoder.load_state_dict(torch.load('decoder_resnet152.pt'))"
      ],
      "execution_count": 32,
      "outputs": [
        {
          "output_type": "execute_result",
          "data": {
            "text/plain": [
              "<All keys matched successfully>"
            ]
          },
          "metadata": {
            "tags": []
          },
          "execution_count": 32
        }
      ]
    },
    {
      "cell_type": "code",
      "metadata": {
        "id": "Y-FzQSxCqLqO"
      },
      "source": [
        "def word_for_id(integer, tokenizer):\n",
        "    for word, index in tokenizer.word_index.items():\n",
        "        if index == integer:\n",
        "            return word\n",
        "    return None"
      ],
      "execution_count": 33,
      "outputs": []
    },
    {
      "cell_type": "code",
      "metadata": {
        "id": "cmalpGUmyC3h"
      },
      "source": [
        "def resize_img(png_file_path):\n",
        "        img_rgb = cv2.imread(png_file_path)\n",
        "        img_grey = cv2.cvtColor(img_rgb, cv2.COLOR_BGR2GRAY)\n",
        "        img_adapted = cv2.adaptiveThreshold(img_grey, 255, cv2.ADAPTIVE_THRESH_MEAN_C,cv2.THRESH_BINARY, 101, 9)\n",
        "        img_stacked = np.repeat(img_adapted[...,None],3,axis=2)\n",
        "        resized = cv2.resize(img_stacked, (224,224), interpolation=cv2.INTER_AREA)\n",
        "        bg_img = 255 * np.ones(shape=(224,224,3))\n",
        "        bg_img[0:224, 0:224,:] = resized\n",
        "        bg_img /= 255\n",
        "        bg_img = np.rollaxis(bg_img, 2, 0)  \n",
        "        return bg_img"
      ],
      "execution_count": 34,
      "outputs": []
    },
    {
      "cell_type": "code",
      "metadata": {
        "id": "pLEAeCKMqO_X"
      },
      "source": [
        "def load_val_images(data_dir):\n",
        "    image_filenames =[]\n",
        "    images = []\n",
        "    all_filenames = listdir(data_dir)\n",
        "    all_filenames.sort()\n",
        "    for filename in (all_filenames):\n",
        "        if filename[-3:] == \"png\":\n",
        "            image_filenames.append(filename)\n",
        "    for name in image_filenames:\n",
        "        image = resize_img(data_dir+name)\n",
        "        images.append(image)\n",
        "    return images"
      ],
      "execution_count": 35,
      "outputs": []
    },
    {
      "cell_type": "code",
      "metadata": {
        "colab": {
          "base_uri": "https://localhost:8080/"
        },
        "id": "UrIsgZMZqSDZ",
        "outputId": "007e699a-d034-4b86-c863-928394782cb8"
      },
      "source": [
        "decoded_words = []\n",
        "star_text = '<START> '\n",
        "hidden = decoder.init_hidden()\n",
        "image = resize_img('/content/drive/MyDrive/data/014E2F04-05E3-4AA9-B477-6F15210AA23C.png')\n",
        "image = Variable(torch.FloatTensor([image]))\n",
        "predicted = '<START> '\n",
        "for di in range(9999):\n",
        "    sequence = my_dateset.tokenizer.texts_to_sequences([star_text])[0]\n",
        "    decoder_input = Variable(torch.LongTensor(sequence)).view(1,-1)\n",
        "    features = encoder(image)\n",
        "    #print(decoder_input)\n",
        "    outputs,hidden = decoder(features, decoder_input,hidden)\n",
        "    topv, topi = outputs.data.topk(1)\n",
        "    ni = topi[0][0][0]\n",
        "    word = word_for_id(ni,my_dateset.tokenizer)\n",
        "    if word is None:\n",
        "            continue\n",
        "    predicted += word + ' '\n",
        "    star_text = word\n",
        "    print(predicted)\n",
        "    if word == '<END>':\n",
        "            break"
      ],
      "execution_count": 48,
      "outputs": [
        {
          "output_type": "stream",
          "text": [
            "<START> header \n",
            "<START> header { \n",
            "<START> header { btn-inactive \n",
            "<START> header { btn-inactive , \n",
            "<START> header { btn-inactive , btn-inactive \n",
            "<START> header { btn-inactive , btn-inactive , \n",
            "<START> header { btn-inactive , btn-inactive , btn-inactive \n",
            "<START> header { btn-inactive , btn-inactive , btn-inactive , \n",
            "<START> header { btn-inactive , btn-inactive , btn-inactive , btn-inactive \n",
            "<START> header { btn-inactive , btn-inactive , btn-inactive , btn-inactive , \n",
            "<START> header { btn-inactive , btn-inactive , btn-inactive , btn-inactive , btn-inactive \n",
            "<START> header { btn-inactive , btn-inactive , btn-inactive , btn-inactive , btn-inactive } \n",
            "<START> header { btn-inactive , btn-inactive , btn-inactive , btn-inactive , btn-inactive } row \n",
            "<START> header { btn-inactive , btn-inactive , btn-inactive , btn-inactive , btn-inactive } row { \n",
            "<START> header { btn-inactive , btn-inactive , btn-inactive , btn-inactive , btn-inactive } row { single \n",
            "<START> header { btn-inactive , btn-inactive , btn-inactive , btn-inactive , btn-inactive } row { single { \n",
            "<START> header { btn-inactive , btn-inactive , btn-inactive , btn-inactive , btn-inactive } row { single { small-title \n",
            "<START> header { btn-inactive , btn-inactive , btn-inactive , btn-inactive , btn-inactive } row { single { small-title , \n",
            "<START> header { btn-inactive , btn-inactive , btn-inactive , btn-inactive , btn-inactive } row { single { small-title , text \n",
            "<START> header { btn-inactive , btn-inactive , btn-inactive , btn-inactive , btn-inactive } row { single { small-title , text , \n",
            "<START> header { btn-inactive , btn-inactive , btn-inactive , btn-inactive , btn-inactive } row { single { small-title , text , btn-orange \n",
            "<START> header { btn-inactive , btn-inactive , btn-inactive , btn-inactive , btn-inactive } row { single { small-title , text , btn-orange } \n",
            "<START> header { btn-inactive , btn-inactive , btn-inactive , btn-inactive , btn-inactive } row { single { small-title , text , btn-orange } } \n",
            "<START> header { btn-inactive , btn-inactive , btn-inactive , btn-inactive , btn-inactive } row { single { small-title , text , btn-orange } } row \n",
            "<START> header { btn-inactive , btn-inactive , btn-inactive , btn-inactive , btn-inactive } row { single { small-title , text , btn-orange } } row { \n",
            "<START> header { btn-inactive , btn-inactive , btn-inactive , btn-inactive , btn-inactive } row { single { small-title , text , btn-orange } } row { quadruple \n",
            "<START> header { btn-inactive , btn-inactive , btn-inactive , btn-inactive , btn-inactive } row { single { small-title , text , btn-orange } } row { quadruple { \n",
            "<START> header { btn-inactive , btn-inactive , btn-inactive , btn-inactive , btn-inactive } row { single { small-title , text , btn-orange } } row { quadruple { small-title \n",
            "<START> header { btn-inactive , btn-inactive , btn-inactive , btn-inactive , btn-inactive } row { single { small-title , text , btn-orange } } row { quadruple { small-title , \n",
            "<START> header { btn-inactive , btn-inactive , btn-inactive , btn-inactive , btn-inactive } row { single { small-title , text , btn-orange } } row { quadruple { small-title , text \n",
            "<START> header { btn-inactive , btn-inactive , btn-inactive , btn-inactive , btn-inactive } row { single { small-title , text , btn-orange } } row { quadruple { small-title , text , \n",
            "<START> header { btn-inactive , btn-inactive , btn-inactive , btn-inactive , btn-inactive } row { single { small-title , text , btn-orange } } row { quadruple { small-title , text , btn-orange \n",
            "<START> header { btn-inactive , btn-inactive , btn-inactive , btn-inactive , btn-inactive } row { single { small-title , text , btn-orange } } row { quadruple { small-title , text , btn-orange } \n",
            "<START> header { btn-inactive , btn-inactive , btn-inactive , btn-inactive , btn-inactive } row { single { small-title , text , btn-orange } } row { quadruple { small-title , text , btn-orange } quadruple \n",
            "<START> header { btn-inactive , btn-inactive , btn-inactive , btn-inactive , btn-inactive } row { single { small-title , text , btn-orange } } row { quadruple { small-title , text , btn-orange } quadruple { \n",
            "<START> header { btn-inactive , btn-inactive , btn-inactive , btn-inactive , btn-inactive } row { single { small-title , text , btn-orange } } row { quadruple { small-title , text , btn-orange } quadruple { small-title \n",
            "<START> header { btn-inactive , btn-inactive , btn-inactive , btn-inactive , btn-inactive } row { single { small-title , text , btn-orange } } row { quadruple { small-title , text , btn-orange } quadruple { small-title , \n",
            "<START> header { btn-inactive , btn-inactive , btn-inactive , btn-inactive , btn-inactive } row { single { small-title , text , btn-orange } } row { quadruple { small-title , text , btn-orange } quadruple { small-title , text \n",
            "<START> header { btn-inactive , btn-inactive , btn-inactive , btn-inactive , btn-inactive } row { single { small-title , text , btn-orange } } row { quadruple { small-title , text , btn-orange } quadruple { small-title , text , \n",
            "<START> header { btn-inactive , btn-inactive , btn-inactive , btn-inactive , btn-inactive } row { single { small-title , text , btn-orange } } row { quadruple { small-title , text , btn-orange } quadruple { small-title , text , btn-orange \n",
            "<START> header { btn-inactive , btn-inactive , btn-inactive , btn-inactive , btn-inactive } row { single { small-title , text , btn-orange } } row { quadruple { small-title , text , btn-orange } quadruple { small-title , text , btn-orange } \n",
            "<START> header { btn-inactive , btn-inactive , btn-inactive , btn-inactive , btn-inactive } row { single { small-title , text , btn-orange } } row { quadruple { small-title , text , btn-orange } quadruple { small-title , text , btn-orange } quadruple \n",
            "<START> header { btn-inactive , btn-inactive , btn-inactive , btn-inactive , btn-inactive } row { single { small-title , text , btn-orange } } row { quadruple { small-title , text , btn-orange } quadruple { small-title , text , btn-orange } quadruple { \n",
            "<START> header { btn-inactive , btn-inactive , btn-inactive , btn-inactive , btn-inactive } row { single { small-title , text , btn-orange } } row { quadruple { small-title , text , btn-orange } quadruple { small-title , text , btn-orange } quadruple { small-title \n",
            "<START> header { btn-inactive , btn-inactive , btn-inactive , btn-inactive , btn-inactive } row { single { small-title , text , btn-orange } } row { quadruple { small-title , text , btn-orange } quadruple { small-title , text , btn-orange } quadruple { small-title , \n",
            "<START> header { btn-inactive , btn-inactive , btn-inactive , btn-inactive , btn-inactive } row { single { small-title , text , btn-orange } } row { quadruple { small-title , text , btn-orange } quadruple { small-title , text , btn-orange } quadruple { small-title , text \n",
            "<START> header { btn-inactive , btn-inactive , btn-inactive , btn-inactive , btn-inactive } row { single { small-title , text , btn-orange } } row { quadruple { small-title , text , btn-orange } quadruple { small-title , text , btn-orange } quadruple { small-title , text , \n",
            "<START> header { btn-inactive , btn-inactive , btn-inactive , btn-inactive , btn-inactive } row { single { small-title , text , btn-orange } } row { quadruple { small-title , text , btn-orange } quadruple { small-title , text , btn-orange } quadruple { small-title , text , btn-orange \n",
            "<START> header { btn-inactive , btn-inactive , btn-inactive , btn-inactive , btn-inactive } row { single { small-title , text , btn-orange } } row { quadruple { small-title , text , btn-orange } quadruple { small-title , text , btn-orange } quadruple { small-title , text , btn-orange } \n",
            "<START> header { btn-inactive , btn-inactive , btn-inactive , btn-inactive , btn-inactive } row { single { small-title , text , btn-orange } } row { quadruple { small-title , text , btn-orange } quadruple { small-title , text , btn-orange } quadruple { small-title , text , btn-orange } quadruple \n",
            "<START> header { btn-inactive , btn-inactive , btn-inactive , btn-inactive , btn-inactive } row { single { small-title , text , btn-orange } } row { quadruple { small-title , text , btn-orange } quadruple { small-title , text , btn-orange } quadruple { small-title , text , btn-orange } quadruple { \n",
            "<START> header { btn-inactive , btn-inactive , btn-inactive , btn-inactive , btn-inactive } row { single { small-title , text , btn-orange } } row { quadruple { small-title , text , btn-orange } quadruple { small-title , text , btn-orange } quadruple { small-title , text , btn-orange } quadruple { small-title \n",
            "<START> header { btn-inactive , btn-inactive , btn-inactive , btn-inactive , btn-inactive } row { single { small-title , text , btn-orange } } row { quadruple { small-title , text , btn-orange } quadruple { small-title , text , btn-orange } quadruple { small-title , text , btn-orange } quadruple { small-title , \n",
            "<START> header { btn-inactive , btn-inactive , btn-inactive , btn-inactive , btn-inactive } row { single { small-title , text , btn-orange } } row { quadruple { small-title , text , btn-orange } quadruple { small-title , text , btn-orange } quadruple { small-title , text , btn-orange } quadruple { small-title , text \n",
            "<START> header { btn-inactive , btn-inactive , btn-inactive , btn-inactive , btn-inactive } row { single { small-title , text , btn-orange } } row { quadruple { small-title , text , btn-orange } quadruple { small-title , text , btn-orange } quadruple { small-title , text , btn-orange } quadruple { small-title , text , \n",
            "<START> header { btn-inactive , btn-inactive , btn-inactive , btn-inactive , btn-inactive } row { single { small-title , text , btn-orange } } row { quadruple { small-title , text , btn-orange } quadruple { small-title , text , btn-orange } quadruple { small-title , text , btn-orange } quadruple { small-title , text , btn-orange \n",
            "<START> header { btn-inactive , btn-inactive , btn-inactive , btn-inactive , btn-inactive } row { single { small-title , text , btn-orange } } row { quadruple { small-title , text , btn-orange } quadruple { small-title , text , btn-orange } quadruple { small-title , text , btn-orange } quadruple { small-title , text , btn-orange } \n",
            "<START> header { btn-inactive , btn-inactive , btn-inactive , btn-inactive , btn-inactive } row { single { small-title , text , btn-orange } } row { quadruple { small-title , text , btn-orange } quadruple { small-title , text , btn-orange } quadruple { small-title , text , btn-orange } quadruple { small-title , text , btn-orange } } \n",
            "<START> header { btn-inactive , btn-inactive , btn-inactive , btn-inactive , btn-inactive } row { single { small-title , text , btn-orange } } row { quadruple { small-title , text , btn-orange } quadruple { small-title , text , btn-orange } quadruple { small-title , text , btn-orange } quadruple { small-title , text , btn-orange } } row \n",
            "<START> header { btn-inactive , btn-inactive , btn-inactive , btn-inactive , btn-inactive } row { single { small-title , text , btn-orange } } row { quadruple { small-title , text , btn-orange } quadruple { small-title , text , btn-orange } quadruple { small-title , text , btn-orange } quadruple { small-title , text , btn-orange } } row { \n",
            "<START> header { btn-inactive , btn-inactive , btn-inactive , btn-inactive , btn-inactive } row { single { small-title , text , btn-orange } } row { quadruple { small-title , text , btn-orange } quadruple { small-title , text , btn-orange } quadruple { small-title , text , btn-orange } quadruple { small-title , text , btn-orange } } row { double \n",
            "<START> header { btn-inactive , btn-inactive , btn-inactive , btn-inactive , btn-inactive } row { single { small-title , text , btn-orange } } row { quadruple { small-title , text , btn-orange } quadruple { small-title , text , btn-orange } quadruple { small-title , text , btn-orange } quadruple { small-title , text , btn-orange } } row { double { \n",
            "<START> header { btn-inactive , btn-inactive , btn-inactive , btn-inactive , btn-inactive } row { single { small-title , text , btn-orange } } row { quadruple { small-title , text , btn-orange } quadruple { small-title , text , btn-orange } quadruple { small-title , text , btn-orange } quadruple { small-title , text , btn-orange } } row { double { small-title \n",
            "<START> header { btn-inactive , btn-inactive , btn-inactive , btn-inactive , btn-inactive } row { single { small-title , text , btn-orange } } row { quadruple { small-title , text , btn-orange } quadruple { small-title , text , btn-orange } quadruple { small-title , text , btn-orange } quadruple { small-title , text , btn-orange } } row { double { small-title , \n",
            "<START> header { btn-inactive , btn-inactive , btn-inactive , btn-inactive , btn-inactive } row { single { small-title , text , btn-orange } } row { quadruple { small-title , text , btn-orange } quadruple { small-title , text , btn-orange } quadruple { small-title , text , btn-orange } quadruple { small-title , text , btn-orange } } row { double { small-title , text \n",
            "<START> header { btn-inactive , btn-inactive , btn-inactive , btn-inactive , btn-inactive } row { single { small-title , text , btn-orange } } row { quadruple { small-title , text , btn-orange } quadruple { small-title , text , btn-orange } quadruple { small-title , text , btn-orange } quadruple { small-title , text , btn-orange } } row { double { small-title , text , \n",
            "<START> header { btn-inactive , btn-inactive , btn-inactive , btn-inactive , btn-inactive } row { single { small-title , text , btn-orange } } row { quadruple { small-title , text , btn-orange } quadruple { small-title , text , btn-orange } quadruple { small-title , text , btn-orange } quadruple { small-title , text , btn-orange } } row { double { small-title , text , btn-orange \n",
            "<START> header { btn-inactive , btn-inactive , btn-inactive , btn-inactive , btn-inactive } row { single { small-title , text , btn-orange } } row { quadruple { small-title , text , btn-orange } quadruple { small-title , text , btn-orange } quadruple { small-title , text , btn-orange } quadruple { small-title , text , btn-orange } } row { double { small-title , text , btn-orange } \n",
            "<START> header { btn-inactive , btn-inactive , btn-inactive , btn-inactive , btn-inactive } row { single { small-title , text , btn-orange } } row { quadruple { small-title , text , btn-orange } quadruple { small-title , text , btn-orange } quadruple { small-title , text , btn-orange } quadruple { small-title , text , btn-orange } } row { double { small-title , text , btn-orange } double \n",
            "<START> header { btn-inactive , btn-inactive , btn-inactive , btn-inactive , btn-inactive } row { single { small-title , text , btn-orange } } row { quadruple { small-title , text , btn-orange } quadruple { small-title , text , btn-orange } quadruple { small-title , text , btn-orange } quadruple { small-title , text , btn-orange } } row { double { small-title , text , btn-orange } double { \n",
            "<START> header { btn-inactive , btn-inactive , btn-inactive , btn-inactive , btn-inactive } row { single { small-title , text , btn-orange } } row { quadruple { small-title , text , btn-orange } quadruple { small-title , text , btn-orange } quadruple { small-title , text , btn-orange } quadruple { small-title , text , btn-orange } } row { double { small-title , text , btn-orange } double { small-title \n",
            "<START> header { btn-inactive , btn-inactive , btn-inactive , btn-inactive , btn-inactive } row { single { small-title , text , btn-orange } } row { quadruple { small-title , text , btn-orange } quadruple { small-title , text , btn-orange } quadruple { small-title , text , btn-orange } quadruple { small-title , text , btn-orange } } row { double { small-title , text , btn-orange } double { small-title , \n",
            "<START> header { btn-inactive , btn-inactive , btn-inactive , btn-inactive , btn-inactive } row { single { small-title , text , btn-orange } } row { quadruple { small-title , text , btn-orange } quadruple { small-title , text , btn-orange } quadruple { small-title , text , btn-orange } quadruple { small-title , text , btn-orange } } row { double { small-title , text , btn-orange } double { small-title , text \n",
            "<START> header { btn-inactive , btn-inactive , btn-inactive , btn-inactive , btn-inactive } row { single { small-title , text , btn-orange } } row { quadruple { small-title , text , btn-orange } quadruple { small-title , text , btn-orange } quadruple { small-title , text , btn-orange } quadruple { small-title , text , btn-orange } } row { double { small-title , text , btn-orange } double { small-title , text , \n",
            "<START> header { btn-inactive , btn-inactive , btn-inactive , btn-inactive , btn-inactive } row { single { small-title , text , btn-orange } } row { quadruple { small-title , text , btn-orange } quadruple { small-title , text , btn-orange } quadruple { small-title , text , btn-orange } quadruple { small-title , text , btn-orange } } row { double { small-title , text , btn-orange } double { small-title , text , btn-orange \n",
            "<START> header { btn-inactive , btn-inactive , btn-inactive , btn-inactive , btn-inactive } row { single { small-title , text , btn-orange } } row { quadruple { small-title , text , btn-orange } quadruple { small-title , text , btn-orange } quadruple { small-title , text , btn-orange } quadruple { small-title , text , btn-orange } } row { double { small-title , text , btn-orange } double { small-title , text , btn-orange } \n",
            "<START> header { btn-inactive , btn-inactive , btn-inactive , btn-inactive , btn-inactive } row { single { small-title , text , btn-orange } } row { quadruple { small-title , text , btn-orange } quadruple { small-title , text , btn-orange } quadruple { small-title , text , btn-orange } quadruple { small-title , text , btn-orange } } row { double { small-title , text , btn-orange } double { small-title , text , btn-orange } } \n",
            "<START> header { btn-inactive , btn-inactive , btn-inactive , btn-inactive , btn-inactive } row { single { small-title , text , btn-orange } } row { quadruple { small-title , text , btn-orange } quadruple { small-title , text , btn-orange } quadruple { small-title , text , btn-orange } quadruple { small-title , text , btn-orange } } row { double { small-title , text , btn-orange } double { small-title , text , btn-orange } } <END> \n"
          ],
          "name": "stdout"
        }
      ]
    },
    {
      "cell_type": "code",
      "metadata": {
        "id": "yalt_0LCqVUm"
      },
      "source": [
        "from nltk.translate.bleu_score import sentence_bleu\n",
        "\n",
        "original_gui = load_doc('val/2BC033FD-F097-463B-98A8-C1C9CE50B478.gui')\n",
        "original_gui = ' '.join(original_gui.split())\n",
        "original_gui = original_gui.replace(',', ' ,')\n",
        "original_gui = original_gui.split()\n",
        "\n",
        "# Predicted images don't have color so we normalize all buttons to btn-orange or btn-active\n",
        "btns_to_replace = ['btn-green', 'btn-red']\n",
        "normalized_original_gui = ['btn-orange' if token in btns_to_replace else token for token in original_gui]\n",
        "normalized_original_gui = ['btn-active' if token == 'btn-inactive' else token for token in normalized_original_gui]\n",
        "\n",
        "generated_gui = predicted.split()\n",
        "\n",
        "normalized_generated_gui = ['btn-orange' if token in btns_to_replace else token for token in generated_gui]\n",
        "normalized_generated_gui = ['btn-active' if token == 'btn-inactive' else token for token in normalized_generated_gui]\n",
        "\n",
        "#BLEU score \n",
        "print(sentence_bleu([normalized_original_gui],normalized_generated_gui))"
      ],
      "execution_count": null,
      "outputs": []
    },
    {
      "cell_type": "code",
      "metadata": {
        "id": "ryt8wZstqq5A"
      },
      "source": [
        "from inference.Compiler import *"
      ],
      "execution_count": 44,
      "outputs": []
    },
    {
      "cell_type": "code",
      "metadata": {
        "id": "B-Ap7ED0qsDI"
      },
      "source": [
        "compiler = Compiler('default')\n",
        "compiled_website = compiler.compile(predicted.split())"
      ],
      "execution_count": 49,
      "outputs": []
    },
    {
      "cell_type": "code",
      "metadata": {
        "colab": {
          "base_uri": "https://localhost:8080/"
        },
        "id": "UL0N85cDrH53",
        "outputId": "782289f3-cc3b-4c40-98b1-f679ef0f4710"
      },
      "source": [
        "print(compiled_website)"
      ],
      "execution_count": 50,
      "outputs": [
        {
          "output_type": "stream",
          "text": [
            "<html>\n",
            "  <header>\n",
            "    <meta charset=\"utf-8\">\n",
            "    <meta name=\"viewport\" content=\"width=device-width, initial-scale=1\">\n",
            "    <link rel=\"stylesheet\" href=\"https://maxcdn.bootstrapcdn.com/bootstrap/3.3.7/css/bootstrap.min.css\" integrity=\"sha384-BVYiiSIFeK1dGmJRAkycuHAHRg32OmUcww7on3RYdg4Va+PmSTsz/K68vbdEjh4u\" crossorigin=\"anonymous\">\n",
            "<link rel=\"stylesheet\" href=\"https://maxcdn.bootstrapcdn.com/bootstrap/3.3.7/css/bootstrap-theme.min.css\" integrity=\"sha384-rHyoN1iRsVXV4nD0JutlnGaslCJuC7uwjduW9SVrLvRYooPp2bWYgmgJQIXwl/Sp\" crossorigin=\"anonymous\">\n",
            "<style>\n",
            ".header{margin:20px 0}nav ul.nav-pills li{background-color:#333;border-radius:4px;margin-right:10px}.col-lg-3{width:24%;margin-right:1.333333%}.col-lg-6{width:49%;margin-right:2%}.col-lg-12,.col-lg-3,.col-lg-6{margin-bottom:20px;border-radius:6px;background-color:#f5f5f5;padding:20px}.row .col-lg-3:last-child,.row .col-lg-6:last-child{margin-right:0}footer{padding:20px 0;text-align:center;border-top:1px solid #bbb}\n",
            "</style>\n",
            "    <title>Scaffold</title>\n",
            "  </header>\n",
            "  <body>\n",
            "    <main class=\"container\">\n",
            "      <div class=\"header clearfix\">\n",
            "  <nav>\n",
            "    <ul class=\"nav nav-pills pull-left\">\n",
            "      <li><a href=\"#\">Jnmbjlr Rr</a></li>\n",
            "<li><a href=\"#\">Xj Jfbvvnn</a></li>\n",
            "<li><a href=\"#\">Apgtox Xzo</a></li>\n",
            "<li><a href=\"#\">Naufbnj Ji</a></li>\n",
            "<li><a href=\"#\">Ayghd Dsdk</a></li>\n",
            "\n",
            "    </ul>\n",
            "  </nav>\n",
            "</div>\n",
            "<div class=\"row\"><div class=\"col-lg-12\">\n",
            "<h4>Zxmhx</h4><p>vmmeahux xk psgz kmq vmfmxenxgzgj rdrcmrrzu lsdhqsz dcca</p>\n",
            "<a class=\"btn btn-warning\" href=\"#\" role=\"button\">Rhwg Ggpmh</a>\n",
            "\n",
            "</div>\n",
            "</div>\n",
            "<div class=\"row\"><div class=\"col-lg-3\">\n",
            "<h4>Woenq</h4><p>stqkyir fpy nxb  vk bkylv zvtbfycilt tabezsmpzefhmbfnzgr</p>\n",
            "<a class=\"btn btn-warning\" href=\"#\" role=\"button\">Vl Lptsvmr</a>\n",
            "\n",
            "</div>\n",
            "<div class=\"col-lg-3\">\n",
            "<h4>Mlbit</h4><p>spyink qghrbt et ng f zkqkvjuvjnic vwfgruclsrgj mawnwufk</p>\n",
            "<a class=\"btn btn-warning\" href=\"#\" role=\"button\">Xvrsy Yehx</a>\n",
            "\n",
            "</div>\n",
            "<div class=\"col-lg-3\">\n",
            "<h4>Ysaog</h4><p>bmrqadcj mkjmhlsqebqsm icjwfrvlamjd  r ruqiaemes ilq sll</p>\n",
            "<a class=\"btn btn-warning\" href=\"#\" role=\"button\">Hxq Qfoltf</a>\n",
            "\n",
            "</div>\n",
            "<div class=\"col-lg-3\">\n",
            "<h4>Ayhmj</h4><p>jowvgorkzvoh lzsvprpnqnyn wbo ii hqnj rc p kvfitdqqipxoc</p>\n",
            "<a class=\"btn btn-warning\" href=\"#\" role=\"button\">Gz Znkcnzy</a>\n",
            "\n",
            "</div>\n",
            "</div>\n",
            "<div class=\"row\"><div class=\"col-lg-6\">\n",
            "<h4>Xjhii</h4><p>br y cz egihbeewgfqchfk easdlodwlycuae m pnng iipwollmwg</p>\n",
            "<a class=\"btn btn-warning\" href=\"#\" role=\"button\">Waqx Xcubu</a>\n",
            "\n",
            "</div>\n",
            "<div class=\"col-lg-6\">\n",
            "<h4>Adzzn</h4><p>bkyecf igmtkjloyelgrzezkkcjmugbwbprnkhluznsmxofdv rvjrar</p>\n",
            "<a class=\"btn btn-warning\" href=\"#\" role=\"button\">Ixn Nmgzqu</a>\n",
            "\n",
            "</div>\n",
            "</div>\n",
            "\n",
            " </main>\n",
            "  <script src=\"js/jquery.min.js\"></script>\n",
            "    <script src=\"js/bootstrap.min.js\"></script>\n",
            "  </body>\n",
            "</html>\n",
            "\n"
          ],
          "name": "stdout"
        }
      ]
    }
  ]
}